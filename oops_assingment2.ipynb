{
 "cells": [
  {
   "cell_type": "code",
   "execution_count": 1,
   "id": "900a067a-0278-4456-80f0-6802deb0b796",
   "metadata": {},
   "outputs": [],
   "source": [
    "  # Q . 1 )\n",
    "    "
   ]
  },
  {
   "cell_type": "code",
   "execution_count": 18,
   "id": "fb3c2ba5-b206-43f3-9819-e82126718895",
   "metadata": {},
   "outputs": [],
   "source": [
    "class vehicle :\n",
    "    def __init__(self , Name_of_vehicle , Max_speed , Average_of_vehicle) :\n",
    "        \n",
    "        self.Name_of_vehicle = Name_of_vehicle \n",
    "        self.Max_speed = Max_speed\n",
    "        self.Average_of_vehicle = Average_of_vehicle\n",
    "        \n",
    "    "
   ]
  },
  {
   "cell_type": "code",
   "execution_count": 19,
   "id": "2c127e6a-7665-446d-be4c-b825267da9dd",
   "metadata": {},
   "outputs": [],
   "source": [
    "car = vehicle(\"Innova\" , 120 , 30) "
   ]
  },
  {
   "cell_type": "code",
   "execution_count": 23,
   "id": "36f2c838-d142-4b2f-98bd-a3bb75c1b5d6",
   "metadata": {},
   "outputs": [
    {
     "name": "stdout",
     "output_type": "stream",
     "text": [
      "car :  Innova\n",
      "Max_speed :  120\n",
      "Average_of_vehicle :  30\n"
     ]
    }
   ],
   "source": [
    "print(\"car : \" ,car.Name_of_vehicle)\n",
    "print(\"Max_speed : \" , car.Max_speed)\n",
    "print(\"Average_of_vehicle : \" , car.Average_of_vehicle)"
   ]
  },
  {
   "cell_type": "code",
   "execution_count": 21,
   "id": "d02022f7-8e38-4eb4-83f2-879f0197bb55",
   "metadata": {},
   "outputs": [],
   "source": [
    "# Q.2)\n"
   ]
  },
  {
   "cell_type": "code",
   "execution_count": 44,
   "id": "09ae42b1-9e7e-4ec4-bd1d-90019b41a9cf",
   "metadata": {},
   "outputs": [],
   "source": [
    "class car(vehicle) :\n",
    "    def seating_capacity(self , capacity) :\n",
    "        self.capacity = capacity\n",
    "        \n",
    "        return f\"The {self.Name_of_vehicle} has a seating capacity of {self.capacity} passengers\""
   ]
  },
  {
   "cell_type": "code",
   "execution_count": 45,
   "id": "256ea52f-fe36-40c2-a6ca-6dab6df06bb6",
   "metadata": {},
   "outputs": [],
   "source": [
    "c = car(\"innova\" , 120 , 25)"
   ]
  },
  {
   "cell_type": "code",
   "execution_count": 49,
   "id": "6db52dc0-e9b2-4376-a010-8649f51abeb1",
   "metadata": {},
   "outputs": [
    {
     "data": {
      "text/plain": [
       "'The innova has a seating capacity of 5 passengers'"
      ]
     },
     "execution_count": 49,
     "metadata": {},
     "output_type": "execute_result"
    }
   ],
   "source": [
    "c.seating_capacity(5)"
   ]
  },
  {
   "cell_type": "code",
   "execution_count": 50,
   "id": "694b779b-2148-4f26-9d24-03eaf993f181",
   "metadata": {},
   "outputs": [],
   "source": [
    "# Q.3 )\n",
    "\n"
   ]
  },
  {
   "cell_type": "code",
   "execution_count": 54,
   "id": "24f006ad-c164-4f3f-aac9-c76a6db28868",
   "metadata": {},
   "outputs": [],
   "source": [
    "'''Multiple inheritance is an object-oriented programming concept where a class can inherit properties and behaviors \n",
    "from more than one parent class.'''\n",
    "\n",
    "# Example of multiple inhertiance\n",
    "\n",
    "class Animals :\n",
    "    \n",
    "    def __init__(self , name) :\n",
    "        self.name = name\n",
    "        \n",
    "    def speak(self):\n",
    "        \n",
    "        pass"
   ]
  },
  {
   "cell_type": "code",
   "execution_count": 66,
   "id": "a55cb5e2-6b91-4d40-924d-dab8cf03e999",
   "metadata": {},
   "outputs": [],
   "source": [
    "class mammal(Animals) :\n",
    "    \n",
    "    def speak(self) :\n",
    "        return f\"{self.name} speaks like a mammal\"\n",
    "    \n",
    "    \n",
    "    def run(self) :\n",
    "        return f\"{self.name} run like a mammal\"\n",
    "        "
   ]
  },
  {
   "cell_type": "code",
   "execution_count": 67,
   "id": "9ec41c46-9792-4355-9f61-f91ea4f18814",
   "metadata": {},
   "outputs": [],
   "source": [
    "class bird(Animals) :\n",
    "    \n",
    "    def speak(self) :\n",
    "        return f\"{self.name}  chirps like a bird\"\n",
    "    \n",
    "    def fly(self) :\n",
    "        return f\"{self.name} flies like a bird \""
   ]
  },
  {
   "cell_type": "code",
   "execution_count": 68,
   "id": "5dc14de8-39e9-4eaf-ac3e-58c8fc5edb4a",
   "metadata": {},
   "outputs": [],
   "source": [
    "class human(mammal , bird) :\n",
    "    \n",
    "    def speak(self) :\n",
    "        return f\"{self.name} talk like a human\"\n",
    "    \n",
    "    def think(self) :\n",
    "        return f\"{self.name} think like a human\""
   ]
  },
  {
   "cell_type": "code",
   "execution_count": 69,
   "id": "5cc6df13-4214-44e3-b6b6-e5742c0cf826",
   "metadata": {},
   "outputs": [],
   "source": [
    "Mokarim = human(\"Abdul_mokarim\")"
   ]
  },
  {
   "cell_type": "code",
   "execution_count": 74,
   "id": "796e3ffe-4e9a-4686-9ba1-b3a8a490194a",
   "metadata": {},
   "outputs": [
    {
     "name": "stdout",
     "output_type": "stream",
     "text": [
      "Abdul_mokarim\n",
      "Abdul_mokarim flies like a bird \n",
      "Abdul_mokarim run like a mammal\n",
      "Abdul_mokarim talk like a human\n",
      "Abdul_mokarim think like a human\n"
     ]
    }
   ],
   "source": [
    "print(Mokarim.name)\n",
    "print(Mokarim.fly())\n",
    "print(Mokarim.run())\n",
    "print(Mokarim.speak())\n",
    "print(Mokarim.think())"
   ]
  },
  {
   "cell_type": "code",
   "execution_count": 75,
   "id": "913d76a6-494c-4608-9cb3-c809063d2d0e",
   "metadata": {},
   "outputs": [],
   "source": [
    "# Q.4\n"
   ]
  },
  {
   "cell_type": "code",
   "execution_count": 94,
   "id": "857641ba-592f-4de7-b6d3-00438bea3976",
   "metadata": {},
   "outputs": [],
   "source": [
    "'''In Python, getter and setter methods are used to control access to the attributes (variables) of a class. Getter methods allow \n",
    "you to retrieve the value of an attribute, and setter methods allow you to set the value of an attribute while providing a level \n",
    "of encapsulation and control over how the attribute is accessed or modified. This is useful for ensuring data integrity and adding \n",
    "validation or processing logic when getting or setting attribute values.'''\n",
    "\n",
    "# example of getter and setter method\n",
    "\n",
    "class student :\n",
    "    def __init__(self , name , age) :\n",
    "        self.__name = name\n",
    "        self.__age = age\n",
    "        \n",
    "    # getter method\n",
    "    def get_name(self) :\n",
    "        \n",
    "        return self.__name\n",
    "    \n",
    "    def get_age(self) :\n",
    "        return self.__age\n",
    "    \n",
    "    # setter method\n",
    "    \n",
    "    def set_name(self , name) :\n",
    "        if len(name) > 5 :\n",
    "            self.__name = name\n",
    "        else :\n",
    "            return \"Name must be more than  5 character\"\n",
    "        \n",
    "        \n",
    "    def set_age(self , age) :\n",
    "        if age > 0 :\n",
    "            self.__age = age\n",
    "        else :\n",
    "            return \"Age must be greater than 0\"\n",
    "            \n",
    "            \n",
    "    "
   ]
  },
  {
   "cell_type": "code",
   "execution_count": 95,
   "id": "7b3aa13a-820e-4a17-97b7-af0df30cef6c",
   "metadata": {},
   "outputs": [],
   "source": [
    "student1 = student(\"abdul_mokarim\" , 22)"
   ]
  },
  {
   "cell_type": "code",
   "execution_count": 97,
   "id": "3622f413-a013-494b-a677-35601c879e41",
   "metadata": {},
   "outputs": [
    {
     "name": "stdout",
     "output_type": "stream",
     "text": [
      "Name of student is :  abdul_mokarim\n",
      "Age of student is :  22\n"
     ]
    }
   ],
   "source": [
    "print( \"Name of student is : \" ,student1.get_name())\n",
    "print(\"Age of student is : \" , student1.get_age())"
   ]
  },
  {
   "cell_type": "code",
   "execution_count": 99,
   "id": "8089c297-bd30-4cb1-92e8-6fbb671751a5",
   "metadata": {},
   "outputs": [],
   "source": [
    "student1.set_name(\"shaikh\")"
   ]
  },
  {
   "cell_type": "code",
   "execution_count": 100,
   "id": "8fa61c48-91b7-4115-8a4e-b8ba6bba31b9",
   "metadata": {},
   "outputs": [],
   "source": [
    "student1.set_age(21)"
   ]
  },
  {
   "cell_type": "code",
   "execution_count": 101,
   "id": "d11e26a4-fe59-4db9-9f10-6a7d65b0a284",
   "metadata": {},
   "outputs": [
    {
     "name": "stdout",
     "output_type": "stream",
     "text": [
      " New Name of student is :  shaikh\n",
      " New Age of student is :  21\n"
     ]
    }
   ],
   "source": [
    "print( \" New Name of student is : \" ,student1.get_name())\n",
    "print(\" New Age of student is : \" , student1.get_age())"
   ]
  },
  {
   "cell_type": "code",
   "execution_count": 102,
   "id": "ebcd6230-9d3b-4f47-8a9f-9d24b942dac0",
   "metadata": {},
   "outputs": [],
   "source": [
    " #Q .5 )\n",
    "    "
   ]
  },
  {
   "cell_type": "code",
   "execution_count": 105,
   "id": "ebc8f4e7-b282-4cbd-8bea-5a5691984c31",
   "metadata": {},
   "outputs": [],
   "source": [
    "class Animal:\n",
    "    def speak(self):\n",
    "        print(\"This is a generic animal speaking.\")\n",
    "\n",
    "class Dog(Animal):\n",
    "    def speak(self):\n",
    "        print(\"Woof! I'm a dog.\")\n",
    "\n",
    "class Cat(Animal):\n",
    "    def speak(self):\n",
    "        print(\"Meow! I'm a cat.\")\n",
    "\n"
   ]
  },
  {
   "cell_type": "code",
   "execution_count": 109,
   "id": "06bf10a8-6c53-42af-870d-7144ada4f5cd",
   "metadata": {},
   "outputs": [],
   "source": [
    "dog = Dog()"
   ]
  },
  {
   "cell_type": "code",
   "execution_count": 110,
   "id": "65f8a0c1-f1a2-4ae3-b053-83fece2267db",
   "metadata": {},
   "outputs": [],
   "source": [
    "cat = Cat()"
   ]
  },
  {
   "cell_type": "code",
   "execution_count": 111,
   "id": "5c868b87-c434-4993-843a-2e17b95dfcf7",
   "metadata": {},
   "outputs": [
    {
     "name": "stdout",
     "output_type": "stream",
     "text": [
      "Woof! I'm a dog.\n"
     ]
    }
   ],
   "source": [
    "dog.speak()"
   ]
  },
  {
   "cell_type": "code",
   "execution_count": 112,
   "id": "418988e8-12d8-452f-ac85-39d108a55d25",
   "metadata": {},
   "outputs": [
    {
     "name": "stdout",
     "output_type": "stream",
     "text": [
      "Meow! I'm a cat.\n"
     ]
    }
   ],
   "source": [
    "cat.speak()"
   ]
  },
  {
   "cell_type": "code",
   "execution_count": null,
   "id": "22518476-fc86-4769-a8dc-2f6b303e84b7",
   "metadata": {},
   "outputs": [],
   "source": []
  }
 ],
 "metadata": {
  "kernelspec": {
   "display_name": "Python 3 (ipykernel)",
   "language": "python",
   "name": "python3"
  },
  "language_info": {
   "codemirror_mode": {
    "name": "ipython",
    "version": 3
   },
   "file_extension": ".py",
   "mimetype": "text/x-python",
   "name": "python",
   "nbconvert_exporter": "python",
   "pygments_lexer": "ipython3",
   "version": "3.10.8"
  }
 },
 "nbformat": 4,
 "nbformat_minor": 5
}
